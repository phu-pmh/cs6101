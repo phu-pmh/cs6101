{
 "cells": [
  {
   "cell_type": "code",
   "execution_count": 4,
   "metadata": {
    "collapsed": false
   },
   "outputs": [],
   "source": [
    "import numpy as np\n",
    "\n",
    "la = np.linalg\n",
    "\n",
    "words = ['I', 'like', 'enjoy', 'deep', 'learning', 'NLP', 'flying', '.']\n",
    "\n",
    "X = np.array([[0, 2, 1, 0, 0, 0, 0, 0],\n",
    "                     [2, 0, 0, 1, 0, 1, 0, 0],\n",
    "                      [1, 0, 0, 0, 0, 0, 1, 0],\n",
    "                      [0, 1, 0, 0, 1, 0, 0, 0],\n",
    "                      [0, 0, 0, 1, 0, 0, 0, 1],\n",
    "                      [0, 1, 0, 0, 0, 0, 0, 1],\n",
    "                      [0, 0, 1, 0, 0, 0, 0, 1],\n",
    "                      [0, 0, 0, 1, 1, 1, 1, 0]\n",
    "             ])\n",
    "\n",
    "U, s , Vh = la.svd(X, full_matrices = False)\n"
   ]
  },
  {
   "cell_type": "markdown",
   "metadata": {},
   "source": [
    "#### Simple 2D word Vector produced by using SVD on the following sentences.\n",
    "- I like deep learning.\n",
    "- I like NLP.\n",
    "- I enjoy flying."
   ]
  },
  {
   "cell_type": "code",
   "execution_count": 9,
   "metadata": {
    "collapsed": false,
    "scrolled": true
   },
   "outputs": [
    {
     "data": {
      "image/png": "[encoded data removed]",
      "text/plain": [
       "<matplotlib.figure.Figure at 0x111822850>"
      ]
     },
     "metadata": {},
     "output_type": "display_data"
    }
   ],
   "source": [
    "%matplotlib inline \n",
    "import matplotlib.pyplot as plt\n",
    "\n",
    "plt.axis()\n",
    "\n",
    "plt.axis([-0.8, 0.1, -0.8, 0.5])\n",
    "for i in xrange(len(words)):\n",
    "    plt.text(U[i,0], U[i,1], words[i])"
   ]
  }
 ],
 "metadata": {
  "kernelspec": {
   "display_name": "Python 2",
   "language": "python",
   "name": "python2"
  },
  "language_info": {
   "codemirror_mode": {
    "name": "ipython",
    "version": 2
   },
   "file_extension": ".py",
   "mimetype": "text/x-python",
   "name": "python",
   "nbconvert_exporter": "python",
   "pygments_lexer": "ipython2",
   "version": "2.7.10"
  }
 },
 "nbformat": 4,
 "nbformat_minor": 0
}
